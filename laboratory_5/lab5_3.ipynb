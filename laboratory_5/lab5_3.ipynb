{
  "cells": [
    {
      "cell_type": "code",
      "execution_count": null,
      "metadata": {
        "id": "jboxrVIZCJNB"
      },
      "outputs": [],
      "source": [
        "import pandas as pd\n",
        "import numpy as np\n",
        "from sklearn.model_selection import train_test_split, RandomizedSearchCV\n",
        "from sklearn.metrics import accuracy_score\n",
        "from xgboost import XGBClassifier\n",
        "from hyperopt import fmin, tpe, hp, Trials\n",
        "import time\n",
        "from sklearn import metrics"
      ]
    },
    {
      "cell_type": "code",
      "source": [
        "from google.colab import drive\n",
        "drive.mount('/content/drive')"
      ],
      "metadata": {
        "colab": {
          "base_uri": "https://localhost:8080/"
        },
        "id": "q9uno224C40B",
        "outputId": "4b60eadf-d9dd-4eea-e546-5fcf0ace43a9"
      },
      "execution_count": null,
      "outputs": [
        {
          "output_type": "stream",
          "name": "stdout",
          "text": [
            "Mounted at /content/drive\n"
          ]
        }
      ]
    },
    {
      "cell_type": "code",
      "execution_count": null,
      "metadata": {
        "id": "bh_qE3kGCJNF"
      },
      "outputs": [],
      "source": [
        "# Загрузка данных\n",
        "df = pd.read_csv('/content/drive/MyDrive/Colab Notebooks/diabetes.csv')\n",
        "X = df.drop(columns=['Outcome'])  # Признаки\n",
        "y = df['Outcome']  # Целевая переменная\n",
        "\n",
        "# Разделение на обучающую и тестовую выборки\n",
        "X_train, X_test, y_train, y_test = train_test_split(X, y, test_size=0.2, random_state=42)\n",
        "\n",
        "# Инициализация базовой модели XGBoost\n",
        "xgb_model = XGBClassifier(n_estimators=2, max_depth=2, learning_rate=1, objective='binary:logistic')"
      ]
    },
    {
      "cell_type": "code",
      "execution_count": null,
      "metadata": {
        "id": "chW_Av6ACJNG"
      },
      "outputs": [],
      "source": [
        "# Определение пространства гиперпараметров для Random Search\n",
        "params = {\n",
        "    'max_depth': np.arange(1, 11),  # Максимальная глубина дерева\n",
        "    'n_estimators': np.arange(1, 1000),  # Количество деревьев в ансамбле\n",
        "    'learning_rate': [1, 0.1, 0.01, 0.05]  # Темп обучения\n",
        "}\n"
      ]
    },
    {
      "cell_type": "code",
      "execution_count": null,
      "metadata": {
        "id": "jHDmycynCJNH"
      },
      "outputs": [],
      "source": [
        "# RandomizedSearchCV для поиска гиперпараметров\n",
        "random_search = RandomizedSearchCV(xgb_model, params, cv=5, random_state=42)"
      ]
    },
    {
      "cell_type": "code",
      "execution_count": null,
      "metadata": {
        "colab": {
          "base_uri": "https://localhost:8080/"
        },
        "id": "B-JJZo2CCJNH",
        "outputId": "6ce997c0-a072-4b02-cb02-a661afcfb2cc"
      },
      "outputs": [
        {
          "output_type": "stream",
          "name": "stdout",
          "text": [
            "Лучшие параметры Random Search: {'n_estimators': 984, 'max_depth': 2, 'learning_rate': 0.01}\n",
            "Время поиска Random Search: 12.93 секунд\n"
          ]
        }
      ],
      "source": [
        "# Измерение времени выполнения поиска\n",
        "start_time = time.time()\n",
        "random_search.fit(X_train, y_train)\n",
        "end_time = time.time()\n",
        "\n",
        "# Получение лучших параметров\n",
        "best_params_random = random_search.best_params_\n",
        "print(\"Лучшие параметры Random Search:\", best_params_random)\n",
        "print(\"Время поиска Random Search: {:.2f} секунд\".format(end_time - start_time))"
      ]
    },
    {
      "cell_type": "code",
      "execution_count": null,
      "metadata": {
        "id": "lmx4MpsXCJNK"
      },
      "outputs": [],
      "source": [
        "# Определение пространства гиперпараметров для HyperOpt\n",
        "space = {\n",
        "    'n_estimators': hp.choice('n_estimators', np.arange(1, 1000)),\n",
        "    'max_depth': hp.choice('max_depth', np.arange(1, 11)),\n",
        "    'learning_rate': hp.choice('learning_rate', [1, 0.1, 0.01, 0.05]),\n",
        "}"
      ]
    },
    {
      "cell_type": "code",
      "execution_count": null,
      "metadata": {
        "id": "wcgHIe_jCJNK"
      },
      "outputs": [],
      "source": [
        "# Определение функции цели для минимизации ошибки\n",
        "def objective(params):\n",
        "    model = XGBClassifier(**params)\n",
        "    model.fit(X_train, y_train)\n",
        "    predictions = model.predict(X_test)\n",
        "    accuracy = metrics.accuracy_score(y_test, predictions)\n",
        "    return -accuracy  # Минимизируем отрицательную точность\n"
      ]
    },
    {
      "cell_type": "code",
      "execution_count": null,
      "metadata": {
        "colab": {
          "base_uri": "https://localhost:8080/"
        },
        "id": "cbI64813CJNL",
        "outputId": "5e222c1b-daa6-4e45-fd32-fdcbdb8d1e77"
      },
      "outputs": [
        {
          "output_type": "stream",
          "name": "stdout",
          "text": [
            "100%|██████████| 100/100 [00:45<00:00,  2.20trial/s, best loss: -0.7857142857142857]\n"
          ]
        }
      ],
      "source": [
        "# Использование метода TPE для оптимизации\n",
        "trials = Trials()\n",
        "start_time = time.time()\n",
        "best_hyperopt = fmin(fn=objective, space=space, algo=tpe.suggest, max_evals=100, trials=trials)\n",
        "end_time = time.time()\n"
      ]
    },
    {
      "cell_type": "code",
      "execution_count": null,
      "metadata": {
        "colab": {
          "base_uri": "https://localhost:8080/"
        },
        "id": "hBJzqKVuCJNM",
        "outputId": "230fc316-f54e-48be-88d7-9458ed80e0bc"
      },
      "outputs": [
        {
          "output_type": "stream",
          "name": "stdout",
          "text": [
            "Лучшие параметры TPE (HyperOpt): {'n_estimators': 147, 'max_depth': 1, 'learning_rate': 0.01}\n",
            "Время поиска HyperOpt: 45.70 секунд\n"
          ]
        }
      ],
      "source": [
        "# Получение лучших параметров после поиска HyperOpt\n",
        "best_params_hyperopt = {\n",
        "    'n_estimators': best_hyperopt['n_estimators'],\n",
        "    'max_depth': best_hyperopt['max_depth'],\n",
        "    'learning_rate': [1, 0.1, 0.01, 0.05][best_hyperopt['learning_rate']]  # Получаем реальное значение из индекса\n",
        "}\n",
        "print(\"Лучшие параметры TPE (HyperOpt):\", best_params_hyperopt)\n",
        "print(\"Время поиска HyperOpt: {:.2f} секунд\".format(end_time - start_time))\n"
      ]
    },
    {
      "cell_type": "markdown",
      "metadata": {
        "id": "Hp3yCV9XCJNN"
      },
      "source": [
        "Параметры, предложенные Random Search и TPE&Hyperopt отличаются, проверим результаты:"
      ]
    },
    {
      "cell_type": "code",
      "execution_count": null,
      "metadata": {
        "colab": {
          "base_uri": "https://localhost:8080/"
        },
        "id": "-J1BGS3pCJNS",
        "outputId": "635cb9d2-4157-4c0e-81d6-9d3baa4aa9f3"
      },
      "outputs": [
        {
          "output_type": "stream",
          "name": "stdout",
          "text": [
            "Точность модели с Random Search: 0.7532\n",
            "Точность модели с TPE (HyperOpt): 0.7468\n",
            "\n",
            "Сравнение методов поиска гиперпараметров:\n",
            "Точность Random Search: 0.7532\n",
            "Точность TPE (HyperOpt): 0.7468\n"
          ]
        }
      ],
      "source": [
        "# Модели с лучшими параметрами от Random Search и HyperOpt\n",
        "best_model_random = XGBClassifier(**best_params_random)\n",
        "best_model_hyperopt = XGBClassifier(**best_params_hyperopt)\n",
        "\n",
        "# Обучение и тестирование модели с Random Search\n",
        "best_model_random.fit(X_train, y_train)\n",
        "y_pred_random = best_model_random.predict(X_test)\n",
        "accuracy_random = accuracy_score(y_test, y_pred_random)\n",
        "print(\"Точность модели с Random Search: {:.4f}\".format(accuracy_random))\n",
        "\n",
        "# Обучение и тестирование модели с TPE (HyperOpt)\n",
        "best_model_hyperopt.fit(X_train, y_train)\n",
        "y_pred_hyperopt = best_model_hyperopt.predict(X_test)\n",
        "accuracy_hyperopt = accuracy_score(y_test, y_pred_hyperopt)\n",
        "print(\"Точность модели с TPE (HyperOpt): {:.4f}\".format(accuracy_hyperopt))\n",
        "\n",
        "# Сравнение результатов\n",
        "print(\"\\nСравнение методов поиска гиперпараметров:\")\n",
        "print(\"Точность Random Search: {:.4f}\".format(accuracy_random))\n",
        "print(\"Точность TPE (HyperOpt): {:.4f}\".format(accuracy_hyperopt))"
      ]
    },
    {
      "cell_type": "markdown",
      "metadata": {
        "id": "74HviqyaCJNU"
      },
      "source": [
        "### Вывод\n",
        "Random Search оказался точнее"
      ]
    }
  ],
  "metadata": {
    "kernelspec": {
      "display_name": "base",
      "language": "python",
      "name": "python3"
    },
    "language_info": {
      "codemirror_mode": {
        "name": "ipython",
        "version": 3
      },
      "file_extension": ".py",
      "mimetype": "text/x-python",
      "name": "python",
      "nbconvert_exporter": "python",
      "pygments_lexer": "ipython3",
      "version": "3.11.7"
    },
    "colab": {
      "provenance": []
    }
  },
  "nbformat": 4,
  "nbformat_minor": 0
}